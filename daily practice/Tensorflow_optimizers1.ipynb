{
  "nbformat": 4,
  "nbformat_minor": 0,
  "metadata": {
    "colab": {
      "provenance": [],
      "authorship_tag": "ABX9TyOoHuM/dRDPEQatZbul9n8u",
      "include_colab_link": true
    },
    "kernelspec": {
      "name": "python3",
      "display_name": "Python 3"
    },
    "language_info": {
      "name": "python"
    }
  },
  "cells": [
    {
      "cell_type": "markdown",
      "metadata": {
        "id": "view-in-github",
        "colab_type": "text"
      },
      "source": [
        "<a href=\"https://colab.research.google.com/github/PranaliGhaywat/PranaliGhaywat/blob/main/daily%20practice/Tensorflow_optimizers1.ipynb\" target=\"_parent\"><img src=\"https://colab.research.google.com/assets/colab-badge.svg\" alt=\"Open In Colab\"/></a>"
      ]
    },
    {
      "cell_type": "markdown",
      "source": [
        "SGD\n",
        "\n"
      ],
      "metadata": {
        "id": "eymQGZtEl_Or"
      }
    },
    {
      "cell_type": "code",
      "execution_count": null,
      "metadata": {
        "colab": {
          "base_uri": "https://localhost:8080/",
          "height": 447
        },
        "id": "EHP4MSYHldwm",
        "outputId": "583f066e-1b61-4818-fbfa-dd695273aa34"
      },
      "outputs": [
        {
          "output_type": "execute_result",
          "data": {
            "text/plain": [
              "<matplotlib.collections.PathCollection at 0x7f98fb2f22d0>"
            ]
          },
          "metadata": {},
          "execution_count": 5
        },
        {
          "output_type": "display_data",
          "data": {
            "text/plain": [
              "<Figure size 640x480 with 1 Axes>"
            ],
            "image/png": "[encoded data removed]"
          },
          "metadata": {}
        }
      ],
      "source": [
        "import numpy as np\n",
        "import matplotlib.pyplot as plt\n",
        "import pandas as pd\n",
        "\n",
        "x = np.array([1,2,3,4,5])\n",
        "y = np.array([2.2,4.1,6.3,8.2,10.1])\n",
        "plt.scatter(x,y)\n"
      ]
    },
    {
      "cell_type": "code",
      "source": [
        "\n",
        "theta_0 = 0\n",
        "theta_1 = 1\n",
        "learning_rate = 0.01\n",
        "epochs = 100\n",
        "\n",
        "for epochs in range(epochs):\n",
        "  for i in range(len(x)):\n",
        "    theta_0 = theta_0 - learning_rate * (theta_0 + theta_1 * x[i] - y[i])\n",
        "    theta_1 = theta_1 - learning_rate * (theta_0 + theta_1 * x[i] - y[i]) * x[i]\n",
        "\n",
        "    if epochs% 10 == 0:\n",
        "      loss = np.mean((y - (theta_0 +theta_1 * x))**2)\n",
        "      print(f\"Epochs: {epochs}, Loss: {loss}\")\n",
        "print(f\"final Parameters: theta_0 = {theta_0:.2f} , theta_1= {theta_1: .2f}\")"
      ],
      "metadata": {
        "colab": {
          "base_uri": "https://localhost:8080/"
        },
        "id": "Ffh7z4gcnEwq",
        "outputId": "48c39b39-30b6-45d2-beb4-6015accff1ea"
      },
      "execution_count": null,
      "outputs": [
        {
          "output_type": "stream",
          "name": "stdout",
          "text": [
            "Epochs: 0, Loss: 11.730516638399997\n",
            "Epochs: 0, Loss: 10.696997042943455\n",
            "Epochs: 0, Loss: 8.620844231091947\n",
            "Epochs: 0, Loss: 5.938582517461879\n",
            "Epochs: 0, Loss: 3.3070455831456087\n",
            "Epochs: 10, Loss: 0.006332243677264332\n",
            "Epochs: 10, Loss: 0.0065486288084531784\n",
            "Epochs: 10, Loss: 0.006261710033902586\n",
            "Epochs: 10, Loss: 0.006246522538068891\n",
            "Epochs: 10, Loss: 0.0062670422765267715\n",
            "Epochs: 20, Loss: 0.006148564115275735\n",
            "Epochs: 20, Loss: 0.006281393114209169\n",
            "Epochs: 20, Loss: 0.006126241193708484\n",
            "Epochs: 20, Loss: 0.006155416394741069\n",
            "Epochs: 20, Loss: 0.006133261035783854\n",
            "Epochs: 30, Loss: 0.0060488867408931574\n",
            "Epochs: 30, Loss: 0.0061813761176260215\n",
            "Epochs: 30, Loss: 0.006026053380902552\n",
            "Epochs: 30, Loss: 0.00605524150555623\n",
            "Epochs: 30, Loss: 0.00603430354492782\n",
            "Epochs: 40, Loss: 0.00596422001421587\n",
            "Epochs: 40, Loss: 0.006096442200710988\n",
            "Epochs: 40, Loss: 0.0059407909836097905\n",
            "Epochs: 40, Loss: 0.005969926716046873\n",
            "Epochs: 40, Loss: 0.005950322147847842\n",
            "Epochs: 50, Loss: 0.005892190424094305\n",
            "Epochs: 50, Loss: 0.006024106529474765\n",
            "Epochs: 50, Loss: 0.005868159813717992\n",
            "Epochs: 50, Loss: 0.0058972373240189085\n",
            "Epochs: 50, Loss: 0.005878976923776981\n",
            "Epochs: 60, Loss: 0.0058308502156664745\n",
            "Epochs: 60, Loss: 0.0059624342757876635\n",
            "Epochs: 60, Loss: 0.005806221631509764\n",
            "Epochs: 60, Loss: 0.005835237280273925\n",
            "Epochs: 60, Loss: 0.005818311212929068\n",
            "Epochs: 70, Loss: 0.005778557438029943\n",
            "Epochs: 70, Loss: 0.005909793929431218\n",
            "Epochs: 70, Loss: 0.005753341675974278\n",
            "Epochs: 70, Loss: 0.0057822934928875485\n",
            "Epochs: 70, Loss: 0.005766676292241468\n",
            "Epochs: 80, Loss: 0.0057339273808568935\n",
            "Epochs: 80, Loss: 0.005864809021788185\n",
            "Epochs: 80, Loss: 0.005708140623873563\n",
            "Epochs: 80, Loss: 0.00573702794918096\n",
            "Epochs: 80, Loss: 0.0057226824638953785\n",
            "Epochs: 90, Loss: 0.005695791833987322\n",
            "Epochs: 90, Loss: 0.005826317781703989\n",
            "Epochs: 90, Loss: 0.0056694541928975556\n",
            "Epochs: 90, Loss: 0.005698277384062847\n",
            "Epochs: 90, Loss: 0.00568515797038122\n",
            "final Parameters: theta_0 = 0.25 , theta_1=  1.98\n"
          ]
        }
      ]
    },
    {
      "cell_type": "code",
      "source": [
        "##SGD with momentum"
      ],
      "metadata": {
        "id": "gksYbTjvn4Uw"
      },
      "execution_count": null,
      "outputs": []
    },
    {
      "cell_type": "code",
      "source": [
        "x = np.array([1,2,3,4,5])\n",
        "y = np.array([2.2,4.1,6.3,8.2,10.1])\n",
        "\n",
        "theta_0 = 0\n",
        "theta_1 = 0\n",
        "lr = 0.01\n",
        "momentum = 0.9\n",
        "epochs = 100\n",
        "\n",
        "v_theta_0 = 0\n",
        "v_theta_1 = 0\n",
        "\n",
        "for epochs in range(epochs):\n",
        "  for i in range(len(x)):\n",
        "    v_theta_0 = momentum * v_theta_0 + lr * (theta_0 + theta_1 * x[i] - y[i])\n",
        "    v_theta_1 = momentum * v_theta_1 + lr * (theta_0 + theta_1 * x[i] - y[i]) * x[i]\n",
        "\n",
        "    theta_0 = theta_0 - v_theta_0\n",
        "    theta_1 = theta_1 - v_theta_1\n",
        "\n",
        "  if epochs % 10 == 0:\n",
        "    loss = np.mean((y - (theta_0 + theta_1 * x))**2)\n",
        "    print(f\"Epochs: {epochs}, Loss: {loss}\")\n",
        "\n",
        "print(f\"Final Parameters: theta_0 = {theta_0:.2f}, theta_1 = {theta_1:.2f}\")"
      ],
      "metadata": {
        "colab": {
          "base_uri": "https://localhost:8080/"
        },
        "id": "gDE18pDy4Sp0",
        "outputId": "a5a5dad4-0b7d-4281-f389-18cc01c51c9a"
      },
      "execution_count": null,
      "outputs": [
        {
          "output_type": "stream",
          "name": "stdout",
          "text": [
            "Epochs: 0, Loss: 0.9833874978765355\n",
            "Epochs: 10, Loss: 0.11916345390981613\n",
            "Epochs: 20, Loss: 0.007326305545278573\n",
            "Epochs: 30, Loss: 0.005578397229749122\n",
            "Epochs: 40, Loss: 0.005439264343191309\n",
            "Epochs: 50, Loss: 0.0054174185725952215\n",
            "Epochs: 60, Loss: 0.00541303697226282\n",
            "Epochs: 70, Loss: 0.005411914246047212\n",
            "Epochs: 80, Loss: 0.005411581845743864\n",
            "Epochs: 90, Loss: 0.005411477412568762\n",
            "Final Parameters: theta_0 = 0.21, theta_1 = 1.99\n"
          ]
        }
      ]
    },
    {
      "cell_type": "code",
      "source": [
        "#NAG"
      ],
      "metadata": {
        "id": "KDlG10x05FvP"
      },
      "execution_count": null,
      "outputs": []
    },
    {
      "cell_type": "code",
      "source": [
        "import numpy as np\n",
        "import matplotlib.pyplot as plt\n",
        "\n",
        "x = np.array([1,2,3,4,5])\n",
        "y = np.array([2.2,4.1,6.3,8.2,10.1])\n",
        "\n",
        "theta_0 = 0\n",
        "theta_1 = 0\n",
        "lr = 0.01\n",
        "momentum = 0.9\n",
        "epochs = 100\n",
        "\n",
        "v_theta_0 = 0\n",
        "v_theta_1 = 0\n",
        "\n",
        "for epochs in range(epochs):\n",
        "  for i in range(len(x)):\n",
        "    theta_0_ahead = theta_0 - momentum * v_theta_0\n",
        "    theta_1_ahead = theta_1 - momentum * v_theta_1\n",
        "\n",
        "    v_theta_0 = momentum * v_theta_0 + lr * (theta_0_ahead + theta_1_ahead * x[i] - y[i])\n",
        "    v_theta_1 = momentum * v_theta_1 + lr * (theta_0_ahead + theta_1_ahead * x[i] - y[i]) * x[i]\n",
        "\n",
        "    theta_0 = theta_0 - v_theta_0\n",
        "    theta_1 = theta_1 - v_theta_1\n",
        "\n",
        "  if epochs % 10 == 0:\n",
        "    loss = np.mean((y - (theta_0 + theta_1 * x))**2)\n",
        "    print(f\"Epochs: {epochs}, Loss: {loss}\")\n",
        "\n",
        "print(f\"Final Parameters: theta_0= {theta_0}, theta_1 ={theta_1}\")"
      ],
      "metadata": {
        "colab": {
          "base_uri": "https://localhost:8080/"
        },
        "id": "6KnFgfRE5OMs",
        "outputId": "d2b168c5-a064-4c40-f23f-0e0a45aab9e6"
      },
      "execution_count": null,
      "outputs": [
        {
          "output_type": "stream",
          "name": "stdout",
          "text": [
            "Epochs: 0, Loss: 2.805959196241228\n",
            "Epochs: 10, Loss: 0.017935975082130358\n",
            "Epochs: 20, Loss: 0.007049703141950759\n",
            "Epochs: 30, Loss: 0.005689468392736033\n",
            "Epochs: 40, Loss: 0.005490906947270809\n",
            "Epochs: 50, Loss: 0.00545153015290172\n",
            "Epochs: 60, Loss: 0.005441411846401141\n",
            "Epochs: 70, Loss: 0.00543843693294963\n",
            "Epochs: 80, Loss: 0.005437515317881123\n",
            "Epochs: 90, Loss: 0.005437224666583449\n",
            "Final Parameters: theta_0= 0.22410847080165605, theta_1 =1.985858827724935\n"
          ]
        }
      ]
    },
    {
      "cell_type": "code",
      "source": [
        "##ADAGRAD"
      ],
      "metadata": {
        "id": "ewC4zMyo6Ppp"
      },
      "execution_count": null,
      "outputs": []
    },
    {
      "cell_type": "code",
      "source": [
        "import numpy as np\n",
        "import matplotlib.pyplot as plt\n",
        "\n",
        "x = np.array([1,2,3,4,5])\n",
        "y = np.array([2.2,4.1,6.3,8.2,10.1])\n",
        "\n",
        "theta_0 = 0\n",
        "theta_1 = 0\n",
        "lr = 0.01\n",
        "epochs = 100\n",
        "\n",
        "epsilon = 1e-8\n",
        "\n",
        "E_theta_0 = 0\n",
        "E_theta_1 = 0\n",
        "\n",
        "for epochs in range(epochs):\n",
        "  for i in range(len(x)):\n",
        "    E_theta_0 = E_theta_0 + ((theta_0 +theta_1 * x[i]) - y[i])**2\n",
        "    E_theta_1 = E_theta_1 + ((theta_0 +theta_1 * x[i]) - y[i]) * x[i]\n",
        "\n",
        "    theta_0 = theta_0 - (lr / (np.sqrt(E_theta_0 + epsilon))) * (theta_0 + theta_1 * x[i] - y[i])\n",
        "    theta_1 = theta_1 - (lr / (np.sqrt(E_theta_1 + epsilon))) *((theta_0 + theta_1 * x[i] - y[i]) * x[i])\n",
        "\n",
        "  if epochs % 10 == 0:\n",
        "    loss = np.mean((y - (theta_0 + theta_1 * x))**2)\n",
        "    print(f\"Epochs: {epochs}, Loss: {loss}\")\n",
        "\n",
        "print(f\"final Parameters: theta_0 = {theta_0:.2f}, theta_1 = {theta_1:.2f}\")\n"
      ],
      "metadata": {
        "colab": {
          "base_uri": "https://localhost:8080/"
        },
        "id": "xlPvcVFI6Txc",
        "outputId": "58ed715d-1b94-472a-8ae1-ef334e533625"
      },
      "execution_count": null,
      "outputs": [
        {
          "output_type": "stream",
          "name": "stdout",
          "text": [
            "Epochs: 0, Loss: nan\n",
            "Epochs: 10, Loss: nan\n",
            "Epochs: 20, Loss: nan\n",
            "Epochs: 30, Loss: nan\n",
            "Epochs: 40, Loss: nan\n",
            "Epochs: 50, Loss: nan\n",
            "Epochs: 60, Loss: nan\n",
            "Epochs: 70, Loss: nan\n",
            "Epochs: 80, Loss: nan\n",
            "Epochs: 90, Loss: nan\n",
            "final Parameters: theta_0 = nan, theta_1 = nan\n"
          ]
        },
        {
          "output_type": "stream",
          "name": "stderr",
          "text": [
            "<ipython-input-15-510c6dabea69>:23: RuntimeWarning: invalid value encountered in sqrt\n",
            "  theta_1 = theta_1 - (lr / (np.sqrt(E_theta_1 + epsilon))) *((theta_0 + theta_1 * x[i] - y[i]) * x[i])\n"
          ]
        }
      ]
    },
    {
      "cell_type": "code",
      "source": [
        "##RMSProp"
      ],
      "metadata": {
        "id": "3A9rkHSz8ivF"
      },
      "execution_count": null,
      "outputs": []
    },
    {
      "cell_type": "code",
      "source": [
        "import numpy as np\n",
        "import matplotlib.pyplot as plt\n",
        "\n",
        "x = np.array([1,2,3,4,5])\n",
        "y = np.array([2.2,4.1,6.3,8.2,10.1])\n",
        "\n",
        "theta_0 = 0\n",
        "theta_1 = 0\n",
        "lr = 0.01\n",
        "epochs = 100\n",
        "\n",
        "epsilon = 1e-8\n",
        "gamma = 0.9\n",
        "\n",
        "sq_theta_0 = 0\n",
        "sq_theta_1 = 0\n",
        "\n",
        "for epochs in range(epochs):\n",
        "  for i in range(len(x)):\n",
        "    sq_theta_0 = gamma * sq_theta_0 + (1 - gamma) * ((theta_0 + theta_1 * x[i]) - y[i])**2\n",
        "    sq_theta_1 = gamma * sq_theta_1 + (1- gamma) * (((theta_0 + theta_1 * x[i]) - y[i]) * x[i])**2\n",
        "\n",
        "    theta_0 = theta_0 - (lr / (np.sqrt(sq_theta_0 + epsilon))) * (theta_0 + theta_1 *x[i])-y[i]\n",
        "    theta_1 = theta_1 - (lr / (np.sqrt(sq_theta_1 + epsilon))) * (((theta_0 + theta_1 * x[i]) - y[i]) * x[i])\n",
        "\n",
        "  if epochs % 10 == 0:\n",
        "    loss = np.mean((y - (theta_0 + theta_1 * x))**2)\n",
        "    print(f\"Epochs: {epochs}, Loss: {loss}\")\n",
        "\n",
        "print(f\"final Parameters: theta_0:{theta_0}, theta_1 :{theta_1}\")\n"
      ],
      "metadata": {
        "colab": {
          "base_uri": "https://localhost:8080/"
        },
        "id": "rP77Qk9586SZ",
        "outputId": "2ebc1c07-9d0d-4dfe-e4e1-4b96a9faca37"
      },
      "execution_count": null,
      "outputs": [
        {
          "output_type": "stream",
          "name": "stdout",
          "text": [
            "Epochs: 0, Loss: 1324.5539198357442\n",
            "Epochs: 10, Loss: 117425.0014506121\n",
            "Epochs: 20, Loss: 421961.2242770614\n",
            "Epochs: 30, Loss: 915074.3992886797\n",
            "Epochs: 40, Loss: 1596800.803027956\n",
            "Epochs: 50, Loss: 2467158.055810328\n",
            "Epochs: 60, Loss: 3526156.6770363515\n",
            "Epochs: 70, Loss: 4773803.6792322695\n",
            "Epochs: 80, Loss: 6210104.077480321\n",
            "Epochs: 90, Loss: 7835061.638805838\n",
            "final Parameters: theta_0:-3084.6477138842843, theta_1 :5.103379046366554\n"
          ]
        }
      ]
    },
    {
      "cell_type": "code",
      "source": [
        "##ADAM"
      ],
      "metadata": {
        "id": "4yo38Y7p-X9W"
      },
      "execution_count": null,
      "outputs": []
    },
    {
      "cell_type": "code",
      "source": [
        "import numpy as np\n",
        "import matplotlib.pyplot as plt\n",
        "\n",
        "x = np.array([1,2,3,4,5])\n",
        "y = np.array([2.2,4.1,6.3,8.0,10.1])\n",
        "\n",
        "theta_0 =0\n",
        "theta_1 = 0\n",
        "lr = 0.01\n",
        "epochs = 100\n",
        "\n",
        "epsilon = 1e-8\n",
        "beta1 = 0.9\n",
        "beta2 = 0.999\n",
        "\n",
        "m_0 = 0\n",
        "\n",
        "m_1 = 0\n",
        "v_0 = 0\n",
        "v_1 = 0\n",
        "\n",
        "for epochs in range(epochs):\n",
        "  for i in range(len(x)):\n",
        "    m_0 = beta1 * m_0 + (1 - beta1) * (theta_0 + theta_1 *x[i])-y[i]\n",
        "    m_1 = beta1 * m_1 + (1 - beta1) * (((theta_0 + theta_1 * x[i]) - y[i]) * x[i])\n",
        "\n",
        "    v_0 = beta2 * v_0 + (1 - beta2) * ((theta_0 + theta_1 *x[i])-y[i])**2\n",
        "    v_1 = beta2 * v_1 + (1 - beta2) * (((theta_0 + theta_1 * x[i]) - y[i]) * x[i])**2\n",
        "\n",
        "    m_0_hat = m_0 / (1 - beta1**(epochs +1))\n",
        "    m_1_hat = m_1 / (1 - beta1**(epochs +1))\n",
        "    v_0_hat = v_0 / (1 - beta2**(epochs +1))\n",
        "    v_1_hat = v_1 / (1 - beta2**(epochs +1))\n",
        "\n",
        "    theta_0 -= (lr/ (np.sqrt(v_0_hat + epsilon))) * m_0_hat\n",
        "    theta_1 -= (lr/ (np.sqrt(v_1_hat + epsilon))) * m_1_hat\n",
        "\n",
        "  if epochs % 10 == 0:\n",
        "    loss = np.mean((y - (theta_0 + theta_1 * x))**2)\n",
        "    print(f\"Epochs: {epochs}, Loss: {loss}\")\n",
        "\n",
        "print(f\"final Parameters: theta_0:{theta_0}, theta_1 :{theta_1}\")\n"
      ],
      "metadata": {
        "colab": {
          "base_uri": "https://localhost:8080/"
        },
        "id": "NF4ciGps-aTt",
        "outputId": "e962cecc-8f35-4424-fa4b-0d9444084cd5"
      },
      "execution_count": null,
      "outputs": [
        {
          "output_type": "stream",
          "name": "stdout",
          "text": [
            "Epochs: 0, Loss: 34.144836104846284\n",
            "Epochs: 10, Loss: 8.04807841338334\n",
            "Epochs: 20, Loss: 34.09915714991983\n",
            "Epochs: 30, Loss: 58.896542543784314\n",
            "Epochs: 40, Loss: 78.37843655093272\n",
            "Epochs: 50, Loss: 94.69439675245793\n",
            "Epochs: 60, Loss: 109.0506467003144\n",
            "Epochs: 70, Loss: 122.08428386731524\n",
            "Epochs: 80, Loss: 134.17354778458167\n",
            "Epochs: 90, Loss: 145.5670232446219\n",
            "final Parameters: theta_0:23.462130226843854, theta_1 :-2.085068980875974\n"
          ]
        }
      ]
    },
    {
      "cell_type": "code",
      "source": [],
      "metadata": {
        "id": "3e0hGIhnAITf"
      },
      "execution_count": null,
      "outputs": []
    }
  ]
}